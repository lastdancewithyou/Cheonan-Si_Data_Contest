{
  "nbformat": 4,
  "nbformat_minor": 0,
  "metadata": {
    "colab": {
      "private_outputs": true,
      "provenance": [],
      "toc_visible": true
    },
    "kernelspec": {
      "name": "python3",
      "display_name": "Python 3"
    },
    "language_info": {
      "name": "python"
    }
  },
  "cells": [
    {
      "cell_type": "markdown",
      "source": [
        "## 1. 지수 스케일링"
      ],
      "metadata": {
        "id": "me33hSKDuTMM"
      }
    },
    {
      "cell_type": "markdown",
      "source": [
        "### 1) 치안 안전지수"
      ],
      "metadata": {
        "id": "egUZsQ_VwDH_"
      }
    },
    {
      "cell_type": "code",
      "execution_count": null,
      "metadata": {
        "id": "acaa60ba"
      },
      "outputs": [],
      "source": [
        "import pandas as pd\n",
        "import numpy as np"
      ]
    },
    {
      "cell_type": "code",
      "execution_count": null,
      "metadata": {
        "id": "59486948"
      },
      "outputs": [],
      "source": [
        "peace = pd.read_excel(\"면적당 각종 지표 개수+인구.xlsx\")"
      ]
    },
    {
      "cell_type": "code",
      "execution_count": null,
      "metadata": {
        "id": "ed9daa01"
      },
      "outputs": [],
      "source": [
        "light = peace[\"면적당 가로등 개수\"]\n",
        "bar = peace[\"면적당 유흥업소 개수\"]\n",
        "bell = peace[\"면적당 안전비상벨 개수\"]\n",
        "cctv = peace[\"면적당 CCTV 개수\"]\n",
        "police = peace[\"한 경찰이 담당하는 인구수\"]"
      ]
    },
    {
      "cell_type": "code",
      "execution_count": null,
      "metadata": {
        "id": "1e49bfde"
      },
      "outputs": [],
      "source": [
        "# 스케일링 범위 설정\n",
        "min_value = 1\n",
        "max_value = 10"
      ]
    },
    {
      "cell_type": "code",
      "execution_count": null,
      "metadata": {
        "collapsed": true,
        "id": "dd7a0647"
      },
      "outputs": [],
      "source": [
        "# 가로등 안전지수 스케일링\n",
        "data = light\n",
        "light_scaled = (data - np.min(data)) / (np.max(data) - np.min(data)) * (max_value - min_value) + min_value\n",
        "print(light_scaled)"
      ]
    },
    {
      "cell_type": "code",
      "execution_count": null,
      "metadata": {
        "collapsed": true,
        "id": "c4d04fb1"
      },
      "outputs": [],
      "source": [
        "# 유흥업소 안전지수 스케일링\n",
        "data = bar\n",
        "bar_scaled = (data - np.min(data)) / (np.max(data) - np.min(data)) * (max_value - min_value) + min_value\n",
        "bar_scaled = np.array(bar_scaled)\n",
        "\n",
        "def reverse_score(score):\n",
        "    reversed_score = 11 - score\n",
        "    return reversed_score\n",
        "\n",
        "bar_scaled_reverse = reverse_score(bar_scaled)\n",
        "print(bar_scaled)\n",
        "print(bar_scaled_reverse)\n"
      ]
    },
    {
      "cell_type": "code",
      "execution_count": null,
      "metadata": {
        "collapsed": true,
        "id": "d7b25e89"
      },
      "outputs": [],
      "source": [
        "# 안전비상벨 안전지수 스케일링\n",
        "data = bell\n",
        "bell_scaled = (data - np.min(data)) / (np.max(data) - np.min(data)) * (max_value - min_value) + min_value\n",
        "print(bell_scaled)"
      ]
    },
    {
      "cell_type": "code",
      "execution_count": null,
      "metadata": {
        "collapsed": true,
        "id": "a0859354"
      },
      "outputs": [],
      "source": [
        "# CCTV 안전지수 스케일링\n",
        "data = cctv\n",
        "cctv_scaled = (data - np.min(data)) / (np.max(data) - np.min(data)) * (max_value - min_value) + min_value\n",
        "print(cctv_scaled)"
      ]
    },
    {
      "cell_type": "code",
      "execution_count": null,
      "metadata": {
        "collapsed": true,
        "id": "01c5a4d6"
      },
      "outputs": [],
      "source": [
        "# 경찰 행정력 안전지수 스케일링\n",
        "data = police\n",
        "police_scaled = (data - np.min(data)) / (np.max(data) - np.min(data)) * (max_value - min_value) + min_value\n",
        "police_scaled = np.array(police_scaled)\n",
        "\n",
        "def reverse_score(score):\n",
        "    reversed_score = 11 - score\n",
        "    return reversed_score\n",
        "\n",
        "police_scaled_reverse = reverse_score(police_scaled)\n",
        "print(police_scaled)\n",
        "print(police_scaled_reverse)\n"
      ]
    },
    {
      "cell_type": "code",
      "execution_count": null,
      "metadata": {
        "id": "5efe36af"
      },
      "outputs": [],
      "source": [
        "peace[\"가로등 스케일 지수\"] = light_scaled\n",
        "peace[\"유흥업소 스케일 지수\"] = bar_scaled_reverse\n",
        "peace[\"안전비상벨 스케일 지수\"] = bell_scaled\n",
        "peace[\"CCTV 스케일 지수\"] = cctv_scaled\n",
        "peace[\"경찰 스케일 지수\"] = police_scaled_reverse"
      ]
    },
    {
      "cell_type": "code",
      "execution_count": null,
      "metadata": {
        "id": "c0af921a"
      },
      "outputs": [],
      "source": [
        "peace.to_excel(\"치안 데이터_최종완성본_827.xlsx\")"
      ]
    },
    {
      "cell_type": "markdown",
      "source": [
        "### 2) 의료 지수"
      ],
      "metadata": {
        "id": "3sm_ctV5wJTR"
      }
    },
    {
      "cell_type": "code",
      "execution_count": null,
      "metadata": {
        "id": "-Jb8mEfUwNlX"
      },
      "outputs": [],
      "source": [
        "import pandas as pd\n",
        "import numpy as np"
      ]
    },
    {
      "cell_type": "code",
      "execution_count": null,
      "metadata": {
        "id": "PGxkYy1UwNlX"
      },
      "outputs": [],
      "source": [
        "hhh = pd.read_excel(\"병원인구최종.xlsx\")"
      ]
    },
    {
      "cell_type": "code",
      "execution_count": null,
      "metadata": {
        "id": "08StENNxwNlY"
      },
      "outputs": [],
      "source": [
        "hos = hhh[\"병원의 인구수용력\"]\n",
        "doc = hhh[\"한 의사당 담당 인구수\"]"
      ]
    },
    {
      "cell_type": "code",
      "execution_count": null,
      "metadata": {
        "id": "d95004e7"
      },
      "outputs": [],
      "source": [
        "# 병원지수에서 일봉동 삭제, 의사지수에서 일봉동,성남면 삭제\n",
        "del hos[5]\n",
        "del doc[5]\n",
        "del doc[17]"
      ]
    },
    {
      "cell_type": "code",
      "execution_count": null,
      "metadata": {
        "id": "uKbD9m4_wNlY"
      },
      "outputs": [],
      "source": [
        "# 스케일링 범위\n",
        "min_value = 1\n",
        "max_value = 10"
      ]
    },
    {
      "cell_type": "code",
      "execution_count": null,
      "metadata": {
        "scrolled": false,
        "id": "1kEUyuGzwNlY"
      },
      "outputs": [],
      "source": [
        "# 병원지수 스케일링\n",
        "data = hos\n",
        "hos_scaled = (data - np.min(data)) / (np.max(data) - np.min(data)) * (max_value - min_value) + min_value\n",
        "hos_scaled = np.array(hos_scaled)\n",
        "\n",
        "def reverse_score(score):\n",
        "    reversed_score = 11 - score\n",
        "    return reversed_score\n",
        "\n",
        "hos_scaled_reverse = reverse_score(hos_scaled)\n",
        "print(hos_scaled)\n",
        "print(hos_scaled_reverse)"
      ]
    },
    {
      "cell_type": "code",
      "execution_count": null,
      "metadata": {
        "id": "a1836a8c"
      },
      "outputs": [],
      "source": [
        "# 삭제했던 값에 0 추가\n",
        "hos_scaled_reverse = np.insert(hos_scaled_reverse, 5, 0)"
      ]
    },
    {
      "cell_type": "code",
      "execution_count": null,
      "metadata": {
        "id": "c8968b5a"
      },
      "outputs": [],
      "source": [
        "hos_scaled_reverse = pd.Series(hos_scaled_reverse)"
      ]
    },
    {
      "cell_type": "code",
      "execution_count": null,
      "metadata": {
        "scrolled": true,
        "id": "x-BZ7egIwNlY"
      },
      "outputs": [],
      "source": [
        "# 의사지수 스케일링\n",
        "data = doc\n",
        "doc_scaled = (data - np.min(data)) / (np.max(data) - np.min(data)) * (max_value - min_value) + min_value\n",
        "doc_scaled = np.array(doc_scaled)\n",
        "\n",
        "def reverse_score(score):\n",
        "    reversed_score = 11 - score\n",
        "    return reversed_score\n",
        "\n",
        "doc_scaled_reverse = reverse_score(doc_scaled)\n",
        "print(doc_scaled)\n",
        "print(doc_scaled_reverse)"
      ]
    },
    {
      "cell_type": "code",
      "execution_count": null,
      "metadata": {
        "id": "2fee3796"
      },
      "outputs": [],
      "source": [
        "# 삭제했던 값에 0 추가\n",
        "doc_scaled_reverse = np.insert(doc_scaled_reverse, 5, 0)\n",
        "doc_scaled_reverse = np.insert(doc_scaled_reverse, 17, 0)"
      ]
    },
    {
      "cell_type": "code",
      "execution_count": null,
      "metadata": {
        "id": "8508bef0"
      },
      "outputs": [],
      "source": [
        "doc_scaled_reverse = pd.Series(doc_scaled_reverse)"
      ]
    },
    {
      "cell_type": "code",
      "execution_count": null,
      "metadata": {
        "id": "g-MTv4I9wNlY"
      },
      "outputs": [],
      "source": [
        "hhh[\"병원 지수\"] = hos_scaled_reverse\n",
        "hhh[\"의사 지수\"] = doc_scaled_reverse"
      ]
    },
    {
      "cell_type": "code",
      "execution_count": null,
      "metadata": {
        "id": "8hM9blZ6wNlY"
      },
      "outputs": [],
      "source": [
        "hhh.to_excel(\"의료지수스케일링.xlsx\")"
      ]
    },
    {
      "cell_type": "markdown",
      "source": [
        "## 2. 지오코딩"
      ],
      "metadata": {
        "id": "AlVFA4RqvZav"
      }
    },
    {
      "cell_type": "markdown",
      "source": [
        "### 1) 주소 텍스트 - 위경도 좌표 반환"
      ],
      "metadata": {
        "id": "kNLi7aUCFFKf"
      }
    },
    {
      "cell_type": "code",
      "execution_count": null,
      "metadata": {
        "id": "elfgyzau1OXZ"
      },
      "outputs": [],
      "source": [
        "import pandas as pd\n",
        "import geopandas as gpd\n",
        "import requests\n",
        "import json\n",
        "import pandas as pd\n",
        "import numpy as np\n",
        "import time\n",
        "import os\n",
        "\n",
        "try :\n",
        "    import xmltodict\n",
        "except :\n",
        "    !pip install xmltodict\n",
        "    import xmltodict"
      ]
    },
    {
      "cell_type": "code",
      "source": [
        "df = pd.read_excel(\"천안경찰서위치.xlsx\")\n",
        "df.head()"
      ],
      "metadata": {
        "id": "aN2ppNr8FG1y"
      },
      "execution_count": null,
      "outputs": []
    },
    {
      "cell_type": "code",
      "source": [
        "from urllib.request import urlopen\n",
        "from urllib import parse\n",
        "from urllib.request import Request\n",
        "from urllib.error import HTTPError\n",
        "from bs4 import BeautifulSoup"
      ],
      "metadata": {
        "id": "l0jhRkt0WyMb"
      },
      "execution_count": null,
      "outputs": []
    },
    {
      "cell_type": "code",
      "source": [
        "client_id = ''\n",
        "client_pw = ''\n",
        "\n",
        "api_url = 'https://naveropenapi.apigw.ntruss.com/map-geocode/v2/geocode?query='"
      ],
      "metadata": {
        "id": "qiOX0baBFwaT"
      },
      "execution_count": null,
      "outputs": []
    },
    {
      "cell_type": "code",
      "source": [
        "geo_coordi_list = []\n",
        "road_add_list = []\n",
        "jibun_add_list = []\n",
        "address_ele_lit = []\n",
        "i = 0\n",
        "start_time = time.time()\n",
        "\n",
        "for add in df['주소']:              ## 데이터명에 따라 변경\n",
        "    add_urlenc = parse.quote(add)\n",
        "    url = api_url + add_urlenc\n",
        "    request = Request(url)\n",
        "    request.add_header('X-NCP-APIGW-API-KEY-ID', client_id)\n",
        "    request.add_header('X-NCP-APIGW-API-KEY', client_pw)\n",
        "\n",
        "    try:\n",
        "        response = urlopen(request)\n",
        "    except HTTPError as e:\n",
        "        print('HTTP Error!!')\n",
        "        latitude = None\n",
        "        longitude = None\n",
        "    else:\n",
        "        rescode = response.getcode() # 정상이면 200 리턴\n",
        "        if rescode == 200:\n",
        "            response_body = response.read().decode('utf-8')\n",
        "            response_body = json.loads(response_body)\n",
        "            if 'addresses' in response_body:\n",
        "                try:\n",
        "                    road_address = response_body['addresses'][0]['roadAddress']\n",
        "                    jibun_address = response_body['addresses'][0]['jibunAddress']\n",
        "                    #address_elements = response_body['addresses'][0]['addressElements']\n",
        "                    latitude = response_body['addresses'][0]['y']\n",
        "                    longitude = response_body['addresses'][0]['x']\n",
        "                    if i%100 == 0:\n",
        "                        print(f'{i//100}00 results Success!')\n",
        "                except:\n",
        "                    road_address = None\n",
        "                    jibun_address = None\n",
        "                    #address_elements = None\n",
        "                    latitude = None\n",
        "                    longitude = None\n",
        "            else:\n",
        "                print('resulut not exist!')\n",
        "                road_address = None\n",
        "                jibun_address = None\n",
        "                #address_elements = None\n",
        "                latitude = None\n",
        "                longitude = None\n",
        "        else:\n",
        "            print(f'Response error code: {rescode}')\n",
        "            road_address = None\n",
        "            jibun_address = None\n",
        "            #address_elements = None\n",
        "            latitude = None\n",
        "            longitude = None\n",
        "\n",
        "    geo_coordi_list.append([latitude, longitude])\n",
        "    road_add_list.append(road_address)\n",
        "    jibun_add_list.append(jibun_address)\n",
        "    i += 1\n",
        "\n",
        "print(f\"총 소요시간: {time.time() - start_time: .2f}s\")"
      ],
      "metadata": {
        "collapsed": true,
        "id": "C6tWHUI1Zyvk"
      },
      "execution_count": null,
      "outputs": []
    },
    {
      "cell_type": "code",
      "source": [
        "len(geo_coordi_list)"
      ],
      "metadata": {
        "id": "0daFCiuBnain"
      },
      "execution_count": null,
      "outputs": []
    },
    {
      "cell_type": "code",
      "source": [
        "geo_coordi_list"
      ],
      "metadata": {
        "id": "WNSnXuTY513c"
      },
      "execution_count": null,
      "outputs": []
    },
    {
      "cell_type": "code",
      "source": [
        "np_geo_coordi = np.array(geo_coordi_list)\n",
        "df_2 = df.copy()\n",
        "\n",
        "df_2['road_address'] = road_add_list\n",
        "df_2['jibun_address'] = jibun_add_list\n",
        "df_2['latitude'] = np_geo_coordi[:, 0]\n",
        "df_2['longitude'] = np_geo_coordi[:, 1]\n",
        "df_2"
      ],
      "metadata": {
        "id": "uTmAEsdDbtHm"
      },
      "execution_count": null,
      "outputs": []
    },
    {
      "cell_type": "code",
      "source": [
        "cheon_df_2.to_csv('천안시/천안시_읍면동사무소정보_0820.csv', encoding = 'utf-8-sig', index = False)"
      ],
      "metadata": {
        "id": "-G_3-2hCWLzo"
      },
      "execution_count": null,
      "outputs": []
    },
    {
      "cell_type": "markdown",
      "source": [
        "### 2) 행정동 매핑"
      ],
      "metadata": {
        "id": "X1oiXdEQFQ8h"
      }
    },
    {
      "cell_type": "markdown",
      "source": [
        "좌표 위치 + shp polygon 조인"
      ],
      "metadata": {
        "id": "BOctz5-2FbIC"
      }
    },
    {
      "cell_type": "code",
      "source": [
        "df = pd.read_excel('병원정보서비스_천안_수정.xlsx')\n",
        "df.columns"
      ],
      "metadata": {
        "id": "edexgs6SvA-l"
      },
      "execution_count": null,
      "outputs": []
    },
    {
      "cell_type": "code",
      "source": [
        "cheon_shp = gpd.read_file('/content/drive/MyDrive/Colab Notebooks/공모전/천안시/천안 shp/cheon_.shp', encoding='utf-8')"
      ],
      "metadata": {
        "id": "Lvp6SypH1Vrl"
      },
      "execution_count": null,
      "outputs": []
    },
    {
      "cell_type": "code",
      "source": [
        "df.head()"
      ],
      "metadata": {
        "id": "Z7aBbqg75Ef0"
      },
      "execution_count": null,
      "outputs": []
    },
    {
      "cell_type": "code",
      "source": [
        "cheon_shp.head()"
      ],
      "metadata": {
        "id": "1f6JXsMj5ttP"
      },
      "execution_count": null,
      "outputs": []
    },
    {
      "cell_type": "code",
      "source": [
        "cheon_shp.plot(color='gray', edgecolor=\"w\")"
      ],
      "metadata": {
        "id": "tHl1bBK88xdp"
      },
      "execution_count": null,
      "outputs": []
    },
    {
      "cell_type": "code",
      "source": [
        "df.columns"
      ],
      "metadata": {
        "id": "iPK_l3CTvZqP"
      },
      "execution_count": null,
      "outputs": []
    },
    {
      "cell_type": "code",
      "source": [
        "df['geometry'] = gpd.points_from_xy(df['좌표(X)'], df['좌표(Y)'], crs=\"EPSG:4326\")\n",
        "geo_df = gpd.GeoDataFrame(data=df, geometry='geometry')\n",
        "geo_df = geo_df.to_crs(epsg=5181)"
      ],
      "metadata": {
        "id": "c0e9f_EY2B9B"
      },
      "execution_count": null,
      "outputs": []
    },
    {
      "cell_type": "code",
      "source": [
        "geo_df_2 = gpd.sjoin(left_df=geo_df, right_df=cheon_shp, how='left', predicate='within')\n",
        "geo_df_2"
      ],
      "metadata": {
        "id": "rEPFfaxH6wC3"
      },
      "execution_count": null,
      "outputs": []
    },
    {
      "cell_type": "code",
      "source": [
        "geo_df_2.columns"
      ],
      "metadata": {
        "id": "_Hzr8iYewLeI"
      },
      "execution_count": null,
      "outputs": []
    },
    {
      "cell_type": "code",
      "source": [
        "geo_df_2.drop(['geometry', 'index_right', 'BASE_DATE'], axis = 1, inplace = True)\n",
        "fin_df = pd.DataFrame(geo_df_2)"
      ],
      "metadata": {
        "id": "qEnP71l6-GrC"
      },
      "execution_count": null,
      "outputs": []
    },
    {
      "cell_type": "code",
      "source": [
        "fin_df.columns"
      ],
      "metadata": {
        "id": "wEyCn8qowZvt"
      },
      "execution_count": null,
      "outputs": []
    },
    {
      "cell_type": "code",
      "source": [
        "fin_df.to_csv('천안/병원정보서비스_천안_수정_0827.csv', encoding = 'utf-8-sig', index = False)"
      ],
      "metadata": {
        "id": "Cua-sH0J97CV"
      },
      "execution_count": null,
      "outputs": []
    }
  ]
}